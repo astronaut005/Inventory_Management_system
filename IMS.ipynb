{
  "nbformat": 4,
  "nbformat_minor": 0,
  "metadata": {
    "colab": {
      "name": "Untitled2.ipynb",
      "provenance": []
    },
    "kernelspec": {
      "name": "python3",
      "display_name": "Python 3"
    },
    "language_info": {
      "name": "python"
    }
  },
  "cells": [
    {
      "cell_type": "code",
      "metadata": {
        "id": "6y8czR2hEbM6"
      },
      "source": [
        "ins= {\"123456\": {\"brand\": \"LP\", \"price\": 1200, \"type\": \"formal\",\"qn\":100},\n",
        " \"789101\": {\"brand\": \"Raymond\", \"price\": 5677, \"type\": \"3-Piece\",\"qn\":50},\n",
        " \"112131\": {\"brand\": \"John Players\", \"price\": 999, \"type\": \"Casual\",\"qn\":200}}"
      ],
      "execution_count": null,
      "outputs": []
    },
    {
      "cell_type": "code",
      "metadata": {
        "colab": {
          "base_uri": "https://localhost:8080/",
          "height": 70
        },
        "id": "7ecQGuIbEhHO",
        "outputId": "53651bf5-d43e-4365-c162-1f57ee4abb27"
      },
      "source": [
        "import json\n",
        "js = json.dumps(ins)\n",
        "js"
      ],
      "execution_count": null,
      "outputs": [
        {
          "output_type": "execute_result",
          "data": {
            "application/vnd.google.colaboratory.intrinsic+json": {
              "type": "string"
            },
            "text/plain": [
              "'{\"123456\": {\"brand\": \"LP\", \"price\": 1200, \"type\": \"formal\", \"qn\": 100}, \"789101\": {\"brand\": \"Raymond\", \"price\": 5677, \"type\": \"3-Piece\", \"qn\": 50}, \"112131\": {\"brand\": \"John Players\", \"price\": 999, \"type\": \"Casual\", \"qn\": 200}}'"
            ]
          },
          "metadata": {},
          "execution_count": 56
        }
      ]
    },
    {
      "cell_type": "code",
      "metadata": {
        "id": "JNbdkfEBEszE"
      },
      "source": [
        "fd = open(\"ins.json\",'w')\n",
        "\n",
        "fd.write(js)\n",
        "\n",
        "fd.close()"
      ],
      "execution_count": null,
      "outputs": []
    },
    {
      "cell_type": "code",
      "metadata": {
        "id": "aMQ8Y7CUEviH"
      },
      "source": [
        "fd = open(\"ins.json\",'r')\n",
        "\n",
        "txt = fd.read()\n",
        "\n",
        "fd.close()"
      ],
      "execution_count": null,
      "outputs": []
    },
    {
      "cell_type": "code",
      "metadata": {
        "id": "FXCywVVIEzxX"
      },
      "source": [
        "fd = open(\"ins.json\",'r')\n",
        "r = fd.read()\n",
        "fd.close()\n",
        "\n",
        "ins = json.loads(r)"
      ],
      "execution_count": null,
      "outputs": []
    },
    {
      "cell_type": "code",
      "metadata": {
        "colab": {
          "base_uri": "https://localhost:8080/"
        },
        "id": "Inmsj9QlFKB8",
        "outputId": "c650af23-e4b8-4efc-9a23-03ee95d5544a"
      },
      "source": [
        "prod_id = str(input(\"Enter product id:\"))\n",
        "brand = str(input(\"Enter name:\"))\n",
        "price= int(input(\"Enter price:\"))\n",
        "typ=str(input(\"Enter the type:\"))\n",
        "qn=int(input(\"Enter the quantity:\"))\n",
        "ins[prod_id] = {'brand': brand, 'price': price, \"type\":typ, \"qn\":qn}\n",
        "\n",
        "js = json.dumps(ins)\n",
        "\n",
        "fd = open(\"ins.json\",'w')\n",
        "fd.write(js)\n",
        "fd.close()"
      ],
      "execution_count": null,
      "outputs": [
        {
          "name": "stdout",
          "output_type": "stream",
          "text": [
            "Enter product id:123\n",
            "Enter name:Peter England\n",
            "Enter price:10000\n",
            "Enter the type:jeans\n",
            "Enter the quantity:100\n"
          ]
        }
      ]
    },
    {
      "cell_type": "code",
      "metadata": {
        "id": "Sr-snHtOE4Yu"
      },
      "source": [
        "import json\n",
        "\n",
        "fd = open(\"ins.json\",'r')\n",
        "r = fd.read()\n",
        "fd.close()\n",
        "\n",
        "records = json.loads(r)"
      ],
      "execution_count": null,
      "outputs": []
    },
    {
      "cell_type": "code",
      "metadata": {
        "colab": {
          "base_uri": "https://localhost:8080/"
        },
        "id": "YEosquW-FETs",
        "outputId": "22592dd2-ae19-45cd-f707-915be005c251"
      },
      "source": [
        "ins"
      ],
      "execution_count": null,
      "outputs": [
        {
          "output_type": "execute_result",
          "data": {
            "text/plain": [
              "{'112131': {'brand': 'John Players',\n",
              "  'price': 999,\n",
              "  'qn': 200,\n",
              "  'type': 'Casual'},\n",
              " '123': {'brand': 'Peter England', 'price': 10000, 'qn': 100, 'type': 'jeans'},\n",
              " '123456': {'brand': 'LP', 'price': 1200, 'qn': 100, 'type': 'formal'},\n",
              " '789101': {'brand': 'Raymond', 'price': 5677, 'qn': 50, 'type': '3-Piece'}}"
            ]
          },
          "metadata": {},
          "execution_count": 63
        }
      ]
    },
    {
      "cell_type": "code",
      "metadata": {
        "colab": {
          "base_uri": "https://localhost:8080/"
        },
        "id": "bVSvBBRuFbPt",
        "outputId": "cfaacbe0-7e82-4186-f572-83a03a94c51f"
      },
      "source": [
        "ui_prod  = str(input(\"Enter the product_Id: \"))\n",
        "ui_quant = int(input(\"Enter the quantity: \"))\n",
        "\n",
        "\n",
        "print(\"Product: \", records[ui_prod]['brand'])\n",
        "print(\"Price: \", records[ui_prod]['price'])\n",
        "print(\"Billing Amount: \", records[ui_prod]['price'] * ui_quant)\n",
        "\n",
        "records[ui_prod]['qn'] = records[ui_prod]['qn'] - ui_quant"
      ],
      "execution_count": null,
      "outputs": [
        {
          "output_type": "stream",
          "name": "stdout",
          "text": [
            "Enter the product_Id: 123\n",
            "Enter the quantity: 2\n",
            "Product:  Peter England\n",
            "Price:  10000\n",
            "Billing Amount:  20000\n"
          ]
        }
      ]
    },
    {
      "cell_type": "code",
      "metadata": {
        "id": "ue_uJM_TKZsm"
      },
      "source": [
        "js = json.dumps(records)\n",
        "\n",
        "fd = open(\"ims.json\",'w')\n",
        "fd.write(js)\n",
        "fd.close()"
      ],
      "execution_count": null,
      "outputs": []
    },
    {
      "cell_type": "code",
      "metadata": {
        "colab": {
          "base_uri": "https://localhost:8080/"
        },
        "id": "bCGHsqL-Kf0M",
        "outputId": "cae8314f-b745-4e78-ef69-d6b87e2f33f4"
      },
      "source": [
        "{'prod' : ui_prod, 'qunatity' : ui_quant, 'amount': records[ui_prod]['price'] * ui_quant}"
      ],
      "execution_count": null,
      "outputs": [
        {
          "output_type": "execute_result",
          "data": {
            "text/plain": [
              "{'amount': 20000, 'prod': '123', 'qunatity': 2}"
            ]
          },
          "metadata": {},
          "execution_count": 66
        }
      ]
    },
    {
      "cell_type": "code",
      "metadata": {
        "id": "Uenvm79cKnj7"
      },
      "source": [
        "sales = {1 : {'prod' : ui_prod, 'qunatity' : ui_quant, 'amount': records[ui_prod]['price'] * ui_quant},\n",
        "         2 : {'prod' : ui_prod, 'qunatity' : ui_quant, 'amount': records[ui_prod]['price'] * ui_quant},\n",
        "         3 : {'prod' : ui_prod, 'qunatity' : ui_quant, 'amount': records[ui_prod]['price'] * ui_quant}}"
      ],
      "execution_count": null,
      "outputs": []
    },
    {
      "cell_type": "code",
      "metadata": {
        "colab": {
          "base_uri": "https://localhost:8080/",
          "height": 53
        },
        "id": "XLrH9mHuKpIv",
        "outputId": "6777da37-3dd9-49eb-c7a8-7495d2bc3ee7"
      },
      "source": [
        "sale = json.dumps(sales)\n",
        "sale"
      ],
      "execution_count": null,
      "outputs": [
        {
          "output_type": "execute_result",
          "data": {
            "application/vnd.google.colaboratory.intrinsic+json": {
              "type": "string"
            },
            "text/plain": [
              "'{\"1\": {\"prod\": \"123\", \"qunatity\": 2, \"amount\": 20000}, \"2\": {\"prod\": \"123\", \"qunatity\": 2, \"amount\": 20000}, \"3\": {\"prod\": \"123\", \"qunatity\": 2, \"amount\": 20000}}'"
            ]
          },
          "metadata": {},
          "execution_count": 68
        }
      ]
    }
  ]
}